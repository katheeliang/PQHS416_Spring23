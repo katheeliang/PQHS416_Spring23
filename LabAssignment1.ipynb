{
 "cells": [
  {
   "cell_type": "markdown",
   "id": "9d5adefd-60b5-40d3-b608-0ce9152da31b",
   "metadata": {},
   "source": [
    "**Question 1:**\n",
    "digit_list = [10, 10, 23, 23, 34, 34, 3, 3, 42, 42, 5, 5, 15,1 5, 6, 7, 8, 9, 10, 11, 12, 13, 14, 15, 16, 17, 20, 2]\n",
    "Using the examples provided in class as a guideline, please write a program to calculate each of the following summary statistics for the digit list provided above. You may need to use some different types of comparisons, conditionals, loops, and general arithmetic.\n",
    "- Mean\n",
    "- Median\n",
    "- Mode\n",
    "- Range"
   ]
  },
  {
   "cell_type": "code",
   "execution_count": 199,
   "id": "4f79ebcc-18cb-4164-965f-705c42dabb26",
   "metadata": {},
   "outputs": [
    {
     "name": "stdout",
     "output_type": "stream",
     "text": [
      "Mean: 15.142857142857142\n",
      "Median: 13.5\n",
      "Mode: 15\n",
      "Range: 40\n"
     ]
    }
   ],
   "source": [
    "digit_list = [10, 10, 23, 23, 34, 34, 3, 3, 42, 42, 5, 5, 15, 15, 6, 7, 8, 9, 10, 11, 12, 13, 14, 15, 16, 17, 20, 2]\n",
    "\n",
    "##TO CALCULATE THE MEAN \n",
    "#Add each item up and divide it by the length of the list\n",
    "\n",
    "sumValue = 0\n",
    "for i in range(0,len(digit_list)):\n",
    "    sumValue = sumValue + digit_list[i]\n",
    "\n",
    "mean = sumValue/len(digit_list)\n",
    "print(\"Mean:\",mean)\n",
    "\n",
    "\n",
    "\n",
    "##TO CALCULATE THE MEDIAN\n",
    "#Sort the list using BubbleSort https://www.geeksforgeeks.org/bubble-sort/\n",
    "\n",
    "from array import array\n",
    "digit_array = array(\"i\", digit_list)\n",
    "\n",
    "for i in range(0,len(digit_array)):\n",
    "    for x in range(0,len(digit_array)-i-1):\n",
    "        if digit_array[x] > digit_array[x+1]:\n",
    "            digit_array[x], digit_array[x+1] = digit_array[x+1], digit_array[x]\n",
    "digit_list2 = digit_array.tolist()\n",
    "\n",
    "#If there are even number of items in the list, the median is the average of the middle two items\n",
    "#If there are odd number of items in the list, the median is the middle item\n",
    "\n",
    "x = int(len(digit_list)/2) \n",
    "if x%2 == 0:\n",
    "    medianValue = (digit_list2[x] + digit_list2[x+1])/2\n",
    "else:\n",
    "    medianValue = digit_list2[x]\n",
    "\n",
    "print(\"Median:\",medianValue)\n",
    "\n",
    "\n",
    "\n",
    "\n",
    "##TO CALCULATE THE MOOD\n",
    "#Create loop to look at the item in the list. \n",
    "#Then create an innerloop to look forward in the list. If that same value occurs, add 1 count for each instance it is repeated\n",
    "#The highest count of the inner loop is the mode\n",
    "\n",
    "modeValue = digit_list[0]\n",
    "counter = 0\n",
    "maxCounter = 0 #note to self: have to put this OUTside loop. otherwise keep resetting to zero\n",
    "\n",
    "for i in range(0,len(digit_list)):\n",
    "    for instances in range(i,len(digit_list)): #note to self: you only want to look at the list positions AFTER your number\n",
    "        if instances == digit_list[i]:\n",
    "            counter = counter + 1\n",
    "    if counter > maxCounter:\n",
    "        maxCounter = counter\n",
    "        modeValue = digit_list[i]\n",
    "        \n",
    "print(\"Mode:\",modeValue)\n",
    "\n",
    "\n",
    "\n",
    "##TO CALCULATE THE RANGE\n",
    "#Calculate Minimum and Maximum value\n",
    "#subtract minimum from maximum value\n",
    "\n",
    "\n",
    "def minimumValue(digit_list):\n",
    "    minimum = digit_list[0]\n",
    "    for digit in digit_list:\n",
    "        if digit < minimum:\n",
    "            minimum = digit\n",
    "    return minimum\n",
    "\n",
    "def maximumValue(digit_list):\n",
    "    maximum = digit_list[0]\n",
    "    for digit in digit_list:\n",
    "        if digit > maximum:\n",
    "            maximum = digit\n",
    "    return maximum\n",
    "\n",
    "\n",
    "rangeValue = maximumValue(digit_list) - minimumValue(digit_list) \n",
    "print(\"Range:\",rangeValue)"
   ]
  },
  {
   "cell_type": "markdown",
   "id": "807959fe-665b-4164-8a9b-941477759e1c",
   "metadata": {},
   "source": [
    "**Question 2:**\n",
    "Write a loop to count the number of occurrences of all the characters (letters, digits, and symbols) in the following sentence (saved as a string titled manifesto_string) and store the information in a dictionary. Your dictionary should have one key for each unique letter/digit/symbol, and the value associated with that key should be an integer representing the number of times that the character shows up in the paragraph."
   ]
  },
  {
   "cell_type": "code",
   "execution_count": 197,
   "id": "9003977a-e7a7-4b56-84d2-265bfc46b6ab",
   "metadata": {},
   "outputs": [],
   "source": [
    "manifesto_string = \"The python manifesto, aka the ‘Zen of Python’ is a simple set of rules and guidelines for writing computer programs that influenced the design of Python. These rules are as follows: ‘Beautiful is better than ugly. Explicit is better than implicit. Simple is better than complex. Complex is better than complicated. Flat is better than nested. Sparse is better than dense. Readability counts. Special cases aren’t special enough to break the rules. Although practicality beats purity. Errors should never pass silently. Unless explicitly silenced. In the face of ambiguity, refuse the temptation to guess. There should be one- and preferably only one -obvious way to do it. Although that way may not be obvious at first. Now is better than never. Although never is often better than right now. If the implementation is hard to explain, it’s a bad idea. If the implementation is easy to explain, it may be a good idea. Namespaces are one honking great idea – let’s do more of those!'\""
   ]
  },
  {
   "cell_type": "code",
   "execution_count": 198,
   "id": "f3277c33-bfec-48a3-b0ed-ea038b2139e1",
   "metadata": {},
   "outputs": [
    {
     "name": "stdout",
     "output_type": "stream",
     "text": [
      "{'T': 3, 'h': 36, 'e': 102, ' ': 164, 'p': 24, 'y': 17, 't': 84, 'o': 52, 'n': 48, 'm': 19, 'a': 59, 'i': 58, 'f': 17, 's': 52, ',': 4, 'k': 3, '‘': 2, 'Z': 1, 'P': 2, '’': 4, 'l': 39, 'r': 38, 'u': 22, 'd': 20, 'g': 15, 'w': 6, 'c': 17, '.': 19, ':': 1, 'B': 1, 'b': 19, 'E': 2, 'x': 6, 'S': 3, 'C': 1, 'F': 1, 'R': 1, 'A': 3, 'v': 5, 'U': 1, 'I': 3, '-': 2, 'N': 2, '–': 1, '!': 1, \"'\": 1}\n"
     ]
    }
   ],
   "source": [
    "##Populate a character dictionary by identifying if a character exists as a key in the character dictionary\n",
    "#If the character does NOT exist in the dictionary, create a new key with a value of 1\n",
    "#If the character does exist in the dictionary, add 1 to the existing value\n",
    "\n",
    "characterDict = {}\n",
    "\n",
    "for i in range(0,len(manifesto_string)):\n",
    "    if manifesto_string[i] not in characterDict:\n",
    "        characterDict[manifesto_string[i]] = 1\n",
    "    else:\n",
    "        characterDict[manifesto_string[i]] = characterDict[manifesto_string[i]] + 1\n",
    "\n",
    "print(characterDict)"
   ]
  },
  {
   "cell_type": "markdown",
   "id": "210ee351-a72a-4aef-b91d-27fcd0a376d1",
   "metadata": {},
   "source": [
    "**Question 3:**\n",
    "Using a loop, compare the strings below and print the indices at which they are different. Also print the character at that index for each word.\n",
    "Hint: recall that you can index a string just like a list\n",
    "\n",
    "correct_string = “Bright night not bright light”\n",
    "\n",
    "incorrect_string = “Bright light not bright night”"
   ]
  },
  {
   "cell_type": "code",
   "execution_count": 125,
   "id": "2f75208b-75df-4f07-ba0e-353aeb4dbe03",
   "metadata": {},
   "outputs": [
    {
     "data": {
      "text/plain": [
       "' _  _  _  _  _  _  _ n _  _  _  _  _  _  _  _  _  _  _  _  _  _  _  _ l _  _  _  _ '"
      ]
     },
     "execution_count": 125,
     "metadata": {},
     "output_type": "execute_result"
    }
   ],
   "source": [
    "correct_string = \"Bright night not bright light\"\n",
    "incorrect_string = \"Bright light not bright night\"\n",
    "\n",
    "##Create a function to compare two strings. \n",
    "#Create a new string 'diffString' that prints the difference between the string. \n",
    "#If the indices are the same between strings print \"_\". Otherwise, print \"[character]\" \n",
    "\n",
    "def compareString(string1, string2):\n",
    "    diffString = \"\"\n",
    "    for i in range(len(string1)):\n",
    "        if string1[i] == string2[i]:\n",
    "            diffString = diffString + \" _ \"\n",
    "        else:\n",
    "            diffString = diffString + string1[i]\n",
    "    return diffString\n",
    "\n",
    "compareString(correct_string, incorrect_string)"
   ]
  }
 ],
 "metadata": {
  "kernelspec": {
   "display_name": "Python 3 (ipykernel)",
   "language": "python",
   "name": "python3"
  },
  "language_info": {
   "codemirror_mode": {
    "name": "ipython",
    "version": 3
   },
   "file_extension": ".py",
   "mimetype": "text/x-python",
   "name": "python",
   "nbconvert_exporter": "python",
   "pygments_lexer": "ipython3",
   "version": "3.11.1"
  }
 },
 "nbformat": 4,
 "nbformat_minor": 5
}
