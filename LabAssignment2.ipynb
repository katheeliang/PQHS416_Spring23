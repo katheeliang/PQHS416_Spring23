{
 "cells": [
  {
   "cell_type": "markdown",
   "id": "95b6b74b-49c7-4d7c-8b60-d21f6962db67",
   "metadata": {},
   "source": [
    "### PQHS 416 Spring 2023 Lab Assignment 2"
   ]
  },
  {
   "cell_type": "markdown",
   "id": "afc35b25-a26a-4746-9d0a-d9e438534782",
   "metadata": {},
   "source": [
    "### Question 1"
   ]
  },
  {
   "cell_type": "code",
   "execution_count": 322,
   "id": "55cab281-0fe8-4765-b5a3-68213517f059",
   "metadata": {},
   "outputs": [],
   "source": [
    "import numpy as np\n",
    "import pandas as pd"
   ]
  },
  {
   "cell_type": "code",
   "execution_count": 204,
   "id": "295236a3-2aff-4d38-ad54-4d7fd95b93c7",
   "metadata": {},
   "outputs": [],
   "source": [
    "def function1(filepath):\n",
    "    digits = [] ##create empty list called digits to store all digits in file \n",
    "    digitlist = ['0','1','2','3','4','5','6','7','8','9'] ##create list called digitlist to store all digit characters \n",
    " \n",
    "    with open(filepath,'r') as file:\n",
    "        content = file.read()\n",
    "        ##Compare each character in file to digitlist. If there is a match, append digits to include the matching character\n",
    "        for i in range(len(content)): \n",
    "            if content[i] in digitlist:\n",
    "                digits.append(content[i])\n",
    "    for i in range(0,len(digits)):\n",
    "        digits[i] = int(digits[i])\n",
    "    print(digits)\n",
    "\n",
    "    ##convert digits into an array called digitArray. Reshape digitArray accoding to the sqrt of count of digits\n",
    "    digitArray = np.asarray(digits)\n",
    "    dimArray = int(np.sqrt(len(digits)))\n",
    "    digitArray2 = digitArray.reshape(dimArray,dimArray)\n",
    "    return (digitArray2)\n"
   ]
  },
  {
   "cell_type": "code",
   "execution_count": 205,
   "id": "7addaae5-062e-46e7-bbdd-281a783dd331",
   "metadata": {},
   "outputs": [
    {
     "name": "stdout",
     "output_type": "stream",
     "text": [
      "[2, 1, 1, 2, 3, 4, 5, 6, 7]\n"
     ]
    },
    {
     "data": {
      "text/plain": [
       "array([[2, 1, 1],\n",
       "       [2, 3, 4],\n",
       "       [5, 6, 7]])"
      ]
     },
     "execution_count": 205,
     "metadata": {},
     "output_type": "execute_result"
    }
   ],
   "source": [
    "function1(\"Assignment2.txt\")"
   ]
  },
  {
   "cell_type": "markdown",
   "id": "c949cf47-a755-4cb3-b734-2af4a4e0e31f",
   "metadata": {},
   "source": [
    "### Question 2"
   ]
  },
  {
   "cell_type": "code",
   "execution_count": 288,
   "id": "16d193b3-44a3-428d-985d-9ccb78c63d9b",
   "metadata": {},
   "outputs": [],
   "source": [
    "#Name, Age in years, Height in cm, weight in kg\n",
    "def Function2(name, age, height, weight, newPatient = None):\n",
    "\n",
    "    #Confirm new patient loop contains the appropriate number of indexes (4). If it does, append name, age, height, and weight lists\n",
    "    if len(newPatient) == 4:\n",
    "        name.append(newPatient[0])\n",
    "        age.append(newPatient[1])\n",
    "        height.append(newPatient[2])\n",
    "        weight.append(newPatient[3])\n",
    "    averageAge = np.round(np.mean(age),4)\n",
    "    \n",
    "    #For each name, calcuate the BMI baesd on weight in kg and height in cm\n",
    "    bmi = []\n",
    "    for i in range(0,len(height)):\n",
    "        bmi_value = (weight[i]/((height[i]/100)**2))\n",
    "        bmi.append(bmi_value)\n",
    "        \n",
    "    #Add each Name, Age, BMI, and average age to dictionary\n",
    "    patientdict = {\"Name\": name, \"Age\": age, \"BMI\": bmi, \"average_patient_age\": averageAge}\n",
    "    \n",
    "    return(patientdict)"
   ]
  },
  {
   "cell_type": "code",
   "execution_count": 289,
   "id": "b7c0cf79-8b1c-4de7-af29-c16ccdd32c1b",
   "metadata": {},
   "outputs": [
    {
     "data": {
      "text/plain": [
       "{'Name': ['Kim Namjoon',\n",
       "  'Kim Seokjin',\n",
       "  'Min Yoongi',\n",
       "  'Jung Hoseok',\n",
       "  'Park Jimin',\n",
       "  'Kim Taehyung',\n",
       "  'Jung Jungkook',\n",
       "  'Miso'],\n",
       " 'Age': [28, 30, 29, 28, 27, 27, 25, 2],\n",
       " 'BMI': [20.756387167668876,\n",
       "  19.66230766829999,\n",
       "  19.047004132231404,\n",
       "  20.747550193111813,\n",
       "  19.918367346938776,\n",
       "  19.350207546580943,\n",
       "  22.408786769347305,\n",
       "  104.05827263267429],\n",
       " 'average_patient_age': 24.5}"
      ]
     },
     "execution_count": 289,
     "metadata": {},
     "output_type": "execute_result"
    }
   ],
   "source": [
    "name1 = ['Kim Namjoon', 'Kim Seokjin', 'Min Yoongi', 'Jung Hoseok', 'Park Jimin', 'Kim Taehyung', 'Jung Jungkook']\n",
    "age1 = [28, 30, 29, 28, 27, 27, 25]\n",
    "height1 = [181, 179, 176, 177, 175, 179, 178]\n",
    "weight1 = [68, 63, 59, 65, 61, 62, 71]\n",
    "Miso = ['Miso', 2, 31, 10]\n",
    "\n",
    "Function2(name1, age1, height1, weight1, Miso)"
   ]
  },
  {
   "cell_type": "markdown",
   "id": "8333293c-d9e6-4f40-a9cd-1823b92263fe",
   "metadata": {},
   "source": [
    "### Question 3"
   ]
  },
  {
   "cell_type": "code",
   "execution_count": 392,
   "id": "bbc470ec-4043-4d60-bb93-eb4c616b8428",
   "metadata": {},
   "outputs": [
    {
     "name": "stdout",
     "output_type": "stream",
     "text": [
      "I wanna dance, the music's got me going Ain't nothing that can stop how we move, yeah Let's break our plans and live just like we're golden And roll in like we're dancing fools We don't need to worry 'Cause when we fall, we know how to land Don't need to talk the talk, just walk the walk tonight 'Cause we don't need permission to dance\n"
     ]
    }
   ],
   "source": [
    "string = \"I wanna dance, the music's got me going Ain't nothing that can stop how we move, yeah Let's break our plans and live just like we're golden And roll in like we're dancing fools We don't need to worry 'Cause when we fall, we know how to land Don't need to talk the talk, just walk the walk tonight 'Cause we don't need permission to dance\"\n",
    "print(string)"
   ]
  },
  {
   "cell_type": "code",
   "execution_count": 396,
   "id": "d66e04a8-663f-4fa6-a8a1-4d37fd3e1b15",
   "metadata": {},
   "outputs": [],
   "source": [
    "def function3(string):\n",
    "\n",
    "    #Remove punctuation from string\n",
    "    punc = '''!()-[]{};:'\"\\,<>./?@#$%^&*_~'''\n",
    "    for i in string:\n",
    "        if i in punc:\n",
    "            string = string.replace(i, \"\")\n",
    "\n",
    "    #Create a dictionary. Split string into words and then populate dictionary with each unique word and their count\n",
    "    stringdict = {}\n",
    "    stringword = string.split(\" \")\n",
    "\n",
    "    for i in range(0,len(stringword)):\n",
    "        if stringword[i] not in stringdict:\n",
    "            stringdict[stringword[i]] = 1\n",
    "        else:\n",
    "            stringdict[stringword[i]] = stringdict[stringword[i]] + 1\n",
    "\n",
    "    #Sort dictionary by frequency count https://www.freecodecamp.org/news/sort-dictionary-by-value-in-python/\n",
    "    stringdictsort = sorted(stringdict.items(), key=lambda x:x[1])\n",
    "    converted_dict = dict(stringdictsort)\n",
    "\n",
    "    #To replace stringword with the value's order in stringdictsort \n",
    "    #First convert sorted dictionary into a list of keys (sorted_keys)\n",
    "    #Then iterate through stringword and replace each word with it's index in sorted_keys\n",
    "    sorted_keys = list(converted_dict.keys())\n",
    "\n",
    "    output = []\n",
    "    for i in range(0,len(stringword)):\n",
    "        indexvalue = sorted_keys.index(stringword[i])\n",
    "        output.append(indexvalue)                    \n",
    "    \n",
    "    print(output)\n"
   ]
  },
  {
   "cell_type": "code",
   "execution_count": 397,
   "id": "1f7e98ea-02a2-4541-9fe5-9768212a5b87",
   "metadata": {},
   "outputs": [
    {
     "name": "stdout",
     "output_type": "stream",
     "text": [
      "[0, 1, 34, 43, 2, 3, 4, 5, 6, 7, 8, 9, 10, 35, 45, 11, 12, 13, 14, 15, 16, 17, 18, 36, 37, 38, 19, 20, 21, 22, 37, 38, 23, 24, 25, 39, 44, 46, 26, 40, 27, 45, 28, 45, 29, 35, 46, 30, 31, 44, 46, 41, 43, 41, 36, 42, 43, 42, 32, 40, 45, 39, 44, 33, 46, 34]\n"
     ]
    }
   ],
   "source": [
    "function3(string)"
   ]
  },
  {
   "cell_type": "markdown",
   "id": "0984ab5b-cf1b-41cb-beac-7fbdffade6f6",
   "metadata": {},
   "source": [
    "### Question 4"
   ]
  },
  {
   "cell_type": "code",
   "execution_count": 418,
   "id": "cb73c4ed-4671-4490-b000-31bbc02678eb",
   "metadata": {},
   "outputs": [
    {
     "name": "stdout",
     "output_type": "stream",
     "text": [
      "   exam1  exam2  exam3  exam4  exam5\n",
      "0     95     96     97     98     99\n",
      "1     75     76     87     99     73\n",
      "2     98     85     73     85     99\n"
     ]
    }
   ],
   "source": [
    "student_grade_data = [[35, 36, 37, 38, 40], [75, 76, 87, 99, 74], [98, 85, 73, 85, 100]]\n",
    "data_headers = ['exam1', 'exam2', 'exam3', 'exam4', 'exam5']\n",
    "\n",
    "student_grade_data = np.array(student_grade_data) ##Convery array into numpy array\n",
    "df = pd.DataFrame(student_grade_data, columns = data_headers) ##convert numpy array into dataframe with headers\n",
    "df.loc[0] = df.loc[0] + 60 ##row wise operation: add 60 points to each of student 0's exams\n",
    "df['exam5'] = df['exam5'] - 1 ##column wise operation: remove 1 point from exam 5 \n",
    "\n",
    "print(df)\n",
    "\n",
    "df.to_csv('Assignment2_KL.csv')"
   ]
  }
 ],
 "metadata": {
  "kernelspec": {
   "display_name": "Python 3 (ipykernel)",
   "language": "python",
   "name": "python3"
  },
  "language_info": {
   "codemirror_mode": {
    "name": "ipython",
    "version": 3
   },
   "file_extension": ".py",
   "mimetype": "text/x-python",
   "name": "python",
   "nbconvert_exporter": "python",
   "pygments_lexer": "ipython3",
   "version": "3.11.1"
  }
 },
 "nbformat": 4,
 "nbformat_minor": 5
}
